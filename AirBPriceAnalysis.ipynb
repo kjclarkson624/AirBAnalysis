{
 "cells": [
  {
   "cell_type": "markdown",
   "metadata": {},
   "source": [
    "# New York City AirBnB Open Data\n",
    "\n",
    "Welcome to my notebook! Here I will be visualizing the NYC AirBnB dataset uploader by user @dgmonov.\n",
    "Here I will be providing some exploratory analysis and attempt some machine learning on the dataset.\n",
    "Please upvote if you find it useful at all and leave me a comment if you have anything you'd like to add!"
   ]
  },
  {
   "cell_type": "code",
   "execution_count": 2,
   "metadata": {},
   "outputs": [],
   "source": [
    "import pandas as pd\n",
    "import numpy as np\n",
    "import matplotlib.pyplot as plt\n",
    "import seaborn as sns\n",
    "from uszipcode import Zipcode\n",
    "from uszipcode import SearchEngine\n",
    "\n",
    "sns.set()"
   ]
  },
  {
   "cell_type": "code",
   "execution_count": 3,
   "metadata": {},
   "outputs": [
    {
     "data": {
      "text/html": [
       "<div>\n",
       "<style scoped>\n",
       "    .dataframe tbody tr th:only-of-type {\n",
       "        vertical-align: middle;\n",
       "    }\n",
       "\n",
       "    .dataframe tbody tr th {\n",
       "        vertical-align: top;\n",
       "    }\n",
       "\n",
       "    .dataframe thead th {\n",
       "        text-align: right;\n",
       "    }\n",
       "</style>\n",
       "<table border=\"1\" class=\"dataframe\">\n",
       "  <thead>\n",
       "    <tr style=\"text-align: right;\">\n",
       "      <th></th>\n",
       "      <th>id</th>\n",
       "      <th>name</th>\n",
       "      <th>host_id</th>\n",
       "      <th>host_name</th>\n",
       "      <th>neighbourhood_group</th>\n",
       "      <th>neighbourhood</th>\n",
       "      <th>latitude</th>\n",
       "      <th>longitude</th>\n",
       "      <th>room_type</th>\n",
       "      <th>price</th>\n",
       "      <th>minimum_nights</th>\n",
       "      <th>number_of_reviews</th>\n",
       "      <th>last_review</th>\n",
       "      <th>reviews_per_month</th>\n",
       "      <th>calculated_host_listings_count</th>\n",
       "      <th>availability_365</th>\n",
       "    </tr>\n",
       "  </thead>\n",
       "  <tbody>\n",
       "    <tr>\n",
       "      <td>0</td>\n",
       "      <td>2539</td>\n",
       "      <td>Clean &amp; quiet apt home by the park</td>\n",
       "      <td>2787</td>\n",
       "      <td>John</td>\n",
       "      <td>Brooklyn</td>\n",
       "      <td>Kensington</td>\n",
       "      <td>40.64749</td>\n",
       "      <td>-73.97237</td>\n",
       "      <td>Private room</td>\n",
       "      <td>149</td>\n",
       "      <td>1</td>\n",
       "      <td>9</td>\n",
       "      <td>2018-10-19</td>\n",
       "      <td>0.21</td>\n",
       "      <td>6</td>\n",
       "      <td>365</td>\n",
       "    </tr>\n",
       "    <tr>\n",
       "      <td>1</td>\n",
       "      <td>2595</td>\n",
       "      <td>Skylit Midtown Castle</td>\n",
       "      <td>2845</td>\n",
       "      <td>Jennifer</td>\n",
       "      <td>Manhattan</td>\n",
       "      <td>Midtown</td>\n",
       "      <td>40.75362</td>\n",
       "      <td>-73.98377</td>\n",
       "      <td>Entire home/apt</td>\n",
       "      <td>225</td>\n",
       "      <td>1</td>\n",
       "      <td>45</td>\n",
       "      <td>2019-05-21</td>\n",
       "      <td>0.38</td>\n",
       "      <td>2</td>\n",
       "      <td>355</td>\n",
       "    </tr>\n",
       "    <tr>\n",
       "      <td>2</td>\n",
       "      <td>3647</td>\n",
       "      <td>THE VILLAGE OF HARLEM....NEW YORK !</td>\n",
       "      <td>4632</td>\n",
       "      <td>Elisabeth</td>\n",
       "      <td>Manhattan</td>\n",
       "      <td>Harlem</td>\n",
       "      <td>40.80902</td>\n",
       "      <td>-73.94190</td>\n",
       "      <td>Private room</td>\n",
       "      <td>150</td>\n",
       "      <td>3</td>\n",
       "      <td>0</td>\n",
       "      <td>NaN</td>\n",
       "      <td>NaN</td>\n",
       "      <td>1</td>\n",
       "      <td>365</td>\n",
       "    </tr>\n",
       "    <tr>\n",
       "      <td>3</td>\n",
       "      <td>3831</td>\n",
       "      <td>Cozy Entire Floor of Brownstone</td>\n",
       "      <td>4869</td>\n",
       "      <td>LisaRoxanne</td>\n",
       "      <td>Brooklyn</td>\n",
       "      <td>Clinton Hill</td>\n",
       "      <td>40.68514</td>\n",
       "      <td>-73.95976</td>\n",
       "      <td>Entire home/apt</td>\n",
       "      <td>89</td>\n",
       "      <td>1</td>\n",
       "      <td>270</td>\n",
       "      <td>2019-07-05</td>\n",
       "      <td>4.64</td>\n",
       "      <td>1</td>\n",
       "      <td>194</td>\n",
       "    </tr>\n",
       "    <tr>\n",
       "      <td>4</td>\n",
       "      <td>5022</td>\n",
       "      <td>Entire Apt: Spacious Studio/Loft by central park</td>\n",
       "      <td>7192</td>\n",
       "      <td>Laura</td>\n",
       "      <td>Manhattan</td>\n",
       "      <td>East Harlem</td>\n",
       "      <td>40.79851</td>\n",
       "      <td>-73.94399</td>\n",
       "      <td>Entire home/apt</td>\n",
       "      <td>80</td>\n",
       "      <td>10</td>\n",
       "      <td>9</td>\n",
       "      <td>2018-11-19</td>\n",
       "      <td>0.10</td>\n",
       "      <td>1</td>\n",
       "      <td>0</td>\n",
       "    </tr>\n",
       "  </tbody>\n",
       "</table>\n",
       "</div>"
      ],
      "text/plain": [
       "     id                                              name  host_id  \\\n",
       "0  2539                Clean & quiet apt home by the park     2787   \n",
       "1  2595                             Skylit Midtown Castle     2845   \n",
       "2  3647               THE VILLAGE OF HARLEM....NEW YORK !     4632   \n",
       "3  3831                   Cozy Entire Floor of Brownstone     4869   \n",
       "4  5022  Entire Apt: Spacious Studio/Loft by central park     7192   \n",
       "\n",
       "     host_name neighbourhood_group neighbourhood  latitude  longitude  \\\n",
       "0         John            Brooklyn    Kensington  40.64749  -73.97237   \n",
       "1     Jennifer           Manhattan       Midtown  40.75362  -73.98377   \n",
       "2    Elisabeth           Manhattan        Harlem  40.80902  -73.94190   \n",
       "3  LisaRoxanne            Brooklyn  Clinton Hill  40.68514  -73.95976   \n",
       "4        Laura           Manhattan   East Harlem  40.79851  -73.94399   \n",
       "\n",
       "         room_type  price  minimum_nights  number_of_reviews last_review  \\\n",
       "0     Private room    149               1                  9  2018-10-19   \n",
       "1  Entire home/apt    225               1                 45  2019-05-21   \n",
       "2     Private room    150               3                  0         NaN   \n",
       "3  Entire home/apt     89               1                270  2019-07-05   \n",
       "4  Entire home/apt     80              10                  9  2018-11-19   \n",
       "\n",
       "   reviews_per_month  calculated_host_listings_count  availability_365  \n",
       "0               0.21                               6               365  \n",
       "1               0.38                               2               355  \n",
       "2                NaN                               1               365  \n",
       "3               4.64                               1               194  \n",
       "4               0.10                               1                 0  "
      ]
     },
     "execution_count": 3,
     "metadata": {},
     "output_type": "execute_result"
    }
   ],
   "source": [
    "airb = pd.read_csv('AB_NYC_2019.csv')\n",
    "airb.head(5)"
   ]
  },
  {
   "cell_type": "code",
   "execution_count": 321,
   "metadata": {},
   "outputs": [
    {
     "data": {
      "text/plain": [
       "(48895, 16)"
      ]
     },
     "execution_count": 321,
     "metadata": {},
     "output_type": "execute_result"
    }
   ],
   "source": [
    "# count how many features and observations we have\n",
    "airb.shape"
   ]
  },
  {
   "cell_type": "code",
   "execution_count": 322,
   "metadata": {},
   "outputs": [
    {
     "data": {
      "text/plain": [
       "id                                  int64\n",
       "name                               object\n",
       "host_id                             int64\n",
       "host_name                          object\n",
       "neighbourhood_group                object\n",
       "neighbourhood                      object\n",
       "latitude                          float64\n",
       "longitude                         float64\n",
       "room_type                          object\n",
       "price                               int64\n",
       "minimum_nights                      int64\n",
       "number_of_reviews                   int64\n",
       "last_review                        object\n",
       "reviews_per_month                 float64\n",
       "calculated_host_listings_count      int64\n",
       "availability_365                    int64\n",
       "dtype: object"
      ]
     },
     "execution_count": 322,
     "metadata": {},
     "output_type": "execute_result"
    }
   ],
   "source": [
    "# see what type of data we're working with\n",
    "airb.dtypes"
   ]
  },
  {
   "cell_type": "code",
   "execution_count": 8,
   "metadata": {},
   "outputs": [
    {
     "data": {
      "text/plain": [
       "id                                    0\n",
       "name                                 16\n",
       "host_id                               0\n",
       "host_name                            21\n",
       "neighbourhood_group                   0\n",
       "neighbourhood                         0\n",
       "latitude                              0\n",
       "longitude                             0\n",
       "room_type                             0\n",
       "price                                 0\n",
       "minimum_nights                        0\n",
       "number_of_reviews                     0\n",
       "last_review                       10052\n",
       "reviews_per_month                 10052\n",
       "calculated_host_listings_count        0\n",
       "availability_365                      0\n",
       "dtype: int64"
      ]
     },
     "execution_count": 8,
     "metadata": {},
     "output_type": "execute_result"
    }
   ],
   "source": [
    "# check for missing values\n",
    "airb.isnull().sum()"
   ]
  },
  {
   "cell_type": "code",
   "execution_count": 350,
   "metadata": {},
   "outputs": [
    {
     "data": {
      "text/plain": [
       "count    48895.000000\n",
       "mean        23.274466\n",
       "std         44.550582\n",
       "min          0.000000\n",
       "25%          1.000000\n",
       "50%          5.000000\n",
       "75%         24.000000\n",
       "max        629.000000\n",
       "Name: number_of_reviews, dtype: float64"
      ]
     },
     "execution_count": 350,
     "metadata": {},
     "output_type": "execute_result"
    }
   ],
   "source": [
    "airb.number_of_reviews.describe()"
   ]
  },
  {
   "cell_type": "code",
   "execution_count": 14,
   "metadata": {},
   "outputs": [
    {
     "data": {
      "text/plain": [
       "array(['Brooklyn', 'Manhattan', 'Queens', 'Staten Island', 'Bronx'],\n",
       "      dtype=object)"
      ]
     },
     "execution_count": 14,
     "metadata": {},
     "output_type": "execute_result"
    }
   ],
   "source": [
    "# split into hot encoding\n",
    "airb['neighbourhood_group'].unique()"
   ]
  },
  {
   "cell_type": "code",
   "execution_count": 16,
   "metadata": {},
   "outputs": [
    {
     "data": {
      "text/plain": [
       "array(['2018-10-19', '2019-05-21', nan, ..., '2017-12-23', '2018-01-29',\n",
       "       '2018-03-29'], dtype=object)"
      ]
     },
     "execution_count": 16,
     "metadata": {},
     "output_type": "execute_result"
    }
   ],
   "source": [
    "# possible drop?\n",
    "airb['last_review'].unique()"
   ]
  },
  {
   "cell_type": "code",
   "execution_count": 323,
   "metadata": {},
   "outputs": [],
   "source": [
    "# turn these into zipcodes. import library to do so\n",
    "#airb['neighbourhood'].unique()"
   ]
  },
  {
   "cell_type": "code",
   "execution_count": 19,
   "metadata": {},
   "outputs": [
    {
     "data": {
      "text/plain": [
       "array(['John', 'Jennifer', 'Elisabeth', ..., 'Abayomi', 'Alberth',\n",
       "       'Ilgar & Aysel'], dtype=object)"
      ]
     },
     "execution_count": 19,
     "metadata": {},
     "output_type": "execute_result"
    }
   ],
   "source": [
    "# one-hot encoding, name/no name?\n",
    "airb['host_name'].unique()"
   ]
  },
  {
   "cell_type": "code",
   "execution_count": 324,
   "metadata": {},
   "outputs": [],
   "source": [
    "# impute nan values for reviews_per_month and last_review with 0\n",
    "#airb[['number_of_reviews','last_review','reviews_per_month']]"
   ]
  },
  {
   "cell_type": "code",
   "execution_count": 325,
   "metadata": {},
   "outputs": [],
   "source": [
    "# replace each with year instead of date\n",
    "# makes it easier for sorting\n",
    "#airb['last_review'].sort_values(ascending=True)"
   ]
  },
  {
   "cell_type": "code",
   "execution_count": 20,
   "metadata": {},
   "outputs": [],
   "source": [
    "# 6658 with 2 listings\n",
    "# 2853 with 3 listings\n",
    "# 1440 with 4 listings\n",
    "\n",
    "#airb.loc[airb.calculated_host_listings_count >=5]"
   ]
  },
  {
   "cell_type": "markdown",
   "metadata": {},
   "source": [
    "# Exploratory Analysis"
   ]
  },
  {
   "cell_type": "markdown",
   "metadata": {},
   "source": [
    "### Let's begin our exploratory analysis with some data visualizations.\n",
    "\n",
    "Almost all of the numerical features of this dataset do not look so great by just entering them through a histogram as they are. To get a better picture, the numerical data was split up into bins for each feature, better representing the data on each observation."
   ]
  },
  {
   "cell_type": "markdown",
   "metadata": {},
   "source": [
    "## 1) Price"
   ]
  },
  {
   "cell_type": "code",
   "execution_count": 41,
   "metadata": {},
   "outputs": [],
   "source": [
    "price = {\"<= $50\":0, \"$51-$75\":0, \"$76-$100\":0,\"$101-$150\":0, \n",
    "                      \"$151-$200\":0,\"$201-$300\":0, \"> $300\":0}\n",
    "\n",
    "for value in airb['price']:\n",
    "    if value <= 50:\n",
    "        price[\"<= $50\"] += 1\n",
    "    elif value > 50 and value <= 75:\n",
    "        price['$51-$75'] += 1\n",
    "    elif value > 75 and value <=100:\n",
    "        price[\"$76-$100\"] += 1\n",
    "    elif value > 100 and value <=150:\n",
    "        price[\"$101-$150\"] += 1\n",
    "    elif value > 150 and value <=200:\n",
    "        price[\"$151-$200\"] += 1\n",
    "    elif value > 200 and value <=300:\n",
    "        price[\"$201-$300\"] += 1\n",
    "    else:\n",
    "        price[\"> $300\"] += 1\n",
    "#print(price)"
   ]
  },
  {
   "cell_type": "code",
   "execution_count": 42,
   "metadata": {},
   "outputs": [
    {
     "name": "stdout",
     "output_type": "stream",
     "text": [
      "count    48895.000000\n",
      "mean       152.720687\n",
      "std        240.154170\n",
      "min          0.000000\n",
      "25%         69.000000\n",
      "50%        106.000000\n",
      "75%        175.000000\n",
      "max      10000.000000\n",
      "Name: price, dtype: float64\n"
     ]
    },
    {
     "data": {
      "image/png": "[encoded data removed]",
      "text/plain": [
       "<Figure size 1152x720 with 1 Axes>"
      ]
     },
     "metadata": {
      "needs_background": "light"
     },
     "output_type": "display_data"
    }
   ],
   "source": [
    "plt.figure(figsize=(16,10))\n",
    "\n",
    "plt.bar(range(len(price)), list(price.values()))\n",
    "plt.xticks(range(len(price)), list(price.keys()))\n",
    "plt.ylabel('Number of Listings')\n",
    "plt.xlabel('Pricing Range')\n",
    "plt.title('Price Listing Distribution')\n",
    "\n",
    "print(airb.price.describe())\n",
    "plt.show()"
   ]
  },
  {
   "cell_type": "markdown",
   "metadata": {},
   "source": [
    "#### Right away we notice that our highest bin is the price range of 101-150."
   ]
  },
  {
   "cell_type": "markdown",
   "metadata": {},
   "source": [
    "## 2) Minimum Nights"
   ]
  },
  {
   "cell_type": "code",
   "execution_count": 5,
   "metadata": {},
   "outputs": [],
   "source": [
    "min_nights = {\"1 Night\":0, \"2 Nights\":0, \"3 Nights\":0,\"4-7 Nights\":0, \"8-14 Nights\":0,\"15-30 Nights\":0, \"Over 30 Nights\":0}\n",
    "\n",
    "for value in airb['minimum_nights']:\n",
    "    if value == 1:\n",
    "        min_nights[\"1 Night\"] += 1\n",
    "    elif value == 2:\n",
    "        min_nights[\"2 Nights\"] += 1\n",
    "    elif value == 3:\n",
    "        min_nights[\"3 Nights\"] += 1\n",
    "    elif value >=4 and value <= 7:\n",
    "        min_nights[\"4-7 Nights\"] += 1\n",
    "    elif value >= 8 and value <=14:\n",
    "        min_nights[\"8-14 Nights\"] += 1\n",
    "    elif value >= 15 and value <=30:\n",
    "        min_nights[\"15-30 Nights\"] += 1\n",
    "    else:\n",
    "        min_nights[\"Over 30 Nights\"] += 1\n",
    "        \n",
    "#print(min_nights)"
   ]
  },
  {
   "cell_type": "code",
   "execution_count": 332,
   "metadata": {
    "scrolled": false
   },
   "outputs": [
    {
     "name": "stdout",
     "output_type": "stream",
     "text": [
      "count    48895.000000\n",
      "mean         7.029962\n",
      "std         20.510550\n",
      "min          1.000000\n",
      "25%          1.000000\n",
      "50%          3.000000\n",
      "75%          5.000000\n",
      "max       1250.000000\n",
      "Name: minimum_nights, dtype: float64\n"
     ]
    },
    {
     "data": {
      "image/png": "[encoded data removed]",
      "text/plain": [
       "<Figure size 1152x720 with 1 Axes>"
      ]
     },
     "metadata": {},
     "output_type": "display_data"
    }
   ],
   "source": [
    "plt.figure(figsize=(16,10))\n",
    "\n",
    "plt.bar(range(len(min_nights)), list(min_nights.values()))\n",
    "plt.xticks(range(len(min_nights)), list(min_nights.keys()))\n",
    "plt.ylabel('Number of Listings')\n",
    "plt.xlabel('Minimum # of Nights')\n",
    "plt.title('Minimum Nights Distribution')\n",
    "\n",
    "print(airb.minimum_nights.describe())\n",
    "plt.show()"
   ]
  },
  {
   "cell_type": "markdown",
   "metadata": {},
   "source": [
    "#### It's probably safe to say that most hosts want their guests to stay at least one night."
   ]
  },
  {
   "cell_type": "markdown",
   "metadata": {},
   "source": [
    "## 3) Availability 365"
   ]
  },
  {
   "cell_type": "code",
   "execution_count": 6,
   "metadata": {},
   "outputs": [],
   "source": [
    "availability_365 = {\"0 Days\":0, \"<= 7 Days\":0, \"8-14 Days\":0,\"15-30 Days\":0, \n",
    "              \"31-60 Days\":0,\"61-90 Days\":0, \"91-120 Days\":0, \"121-150 Days\":0,\n",
    "             \"151-180 Days\":0, \"181-210 Days\":0, \"211-240 Days\":0, \"241-270 Days\":0,\n",
    "             \"271-300 Days\":0, \"301-330 Days\":0, \"331-365 Days\":0}\n",
    "\n",
    "for value in airb['availability_365']:\n",
    "    if value == 0:\n",
    "        availability_365[\"0 Days\"] += 1\n",
    "    elif value > 0 and value <= 7:\n",
    "        availability_365[\"<= 7 Days\"] += 1\n",
    "    elif value > 7 and value <= 14:\n",
    "        availability_365[\"8-14 Days\"] += 1\n",
    "    elif value > 14 and value <= 30:\n",
    "        availability_365[\"15-30 Days\"] += 1\n",
    "    elif value > 30 and value <=60:\n",
    "        availability_365[\"31-60 Days\"] += 1\n",
    "    elif value > 60 and value <=90:\n",
    "        availability_365[\"61-90 Days\"] += 1\n",
    "    elif value > 91 and value <=120:\n",
    "        availability_365[\"91-120 Days\"] += 1\n",
    "    elif value > 121 and value <=150:\n",
    "        availability_365[\"121-150 Days\"] += 1\n",
    "    elif value > 151 and value <=180:\n",
    "        availability_365[\"151-180 Days\"] += 1\n",
    "    elif value > 181 and value <=210:\n",
    "        availability_365[\"181-210 Days\"] += 1\n",
    "    elif value > 211 and value <=240:\n",
    "        availability_365[\"211-240 Days\"] += 1\n",
    "    elif value > 241 and value <=270:\n",
    "        availability_365[\"241-270 Days\"] += 1\n",
    "    elif value > 271 and value <=300:\n",
    "        availability_365[\"271-300 Days\"] += 1\n",
    "    elif value > 301 and value <=330:\n",
    "        availability_365[\"301-330 Days\"] += 1    \n",
    "    else:\n",
    "        availability_365[\"331-365 Days\"] += 1\n",
    "        \n",
    "#print(availability_365)"
   ]
  },
  {
   "cell_type": "code",
   "execution_count": 333,
   "metadata": {},
   "outputs": [
    {
     "name": "stdout",
     "output_type": "stream",
     "text": [
      "count    48895.000000\n",
      "mean       112.781327\n",
      "std        131.622289\n",
      "min          0.000000\n",
      "25%          0.000000\n",
      "50%         45.000000\n",
      "75%        227.000000\n",
      "max        365.000000\n",
      "Name: availability_365, dtype: float64\n"
     ]
    },
    {
     "data": {
      "image/png": "[encoded data removed]",
      "text/plain": [
       "<Figure size 1584x1152 with 1 Axes>"
      ]
     },
     "metadata": {},
     "output_type": "display_data"
    }
   ],
   "source": [
    "plt.figure(figsize=(22,16))\n",
    "\n",
    "plt.bar(range(len(availability_365)), list(availability_365.values()))\n",
    "plt.xticks(range(len(availability_365)), list(availability_365.keys()))\n",
    "plt.ylabel('Number of Listings')\n",
    "plt.xlabel('# Days Available')\n",
    "plt.title('Availability 365 Distribution')\n",
    "\n",
    "print(airb.availability_365.describe())\n",
    "plt.show()"
   ]
  },
  {
   "cell_type": "markdown",
   "metadata": {},
   "source": [
    "Clarification on what 0 Day Availability entails"
   ]
  },
  {
   "cell_type": "markdown",
   "metadata": {},
   "source": [
    "## 4) Number of Reviews"
   ]
  },
  {
   "cell_type": "code",
   "execution_count": 8,
   "metadata": {},
   "outputs": [],
   "source": [
    "number_of_reviews = {\"0 Reviews\":0, \"1 Review\":0, \"2 Reviews\":0,\"3-5 Reviews\":0, \n",
    "                      \"6-10 Reviews\":0,\"11-20 Reviews\":0, \"21-30 Reviews\":0, \n",
    "                     \"31-50 Reviews\":0, \"51-100 Reviews\":0, \"Over 100 Reviews\":0}\n",
    "\n",
    "for value in airb['number_of_reviews']:\n",
    "    if value == 0:\n",
    "        number_of_reviews[\"0 Reviews\"] += 1\n",
    "    elif value == 1:\n",
    "        number_of_reviews[\"1 Review\"] += 1\n",
    "    elif value == 2:\n",
    "        number_of_reviews[\"2 Reviews\"] += 1\n",
    "    elif value > 2 and value <=5:\n",
    "        number_of_reviews[\"3-5 Reviews\"] += 1\n",
    "    elif value > 5 and value <=10:\n",
    "        number_of_reviews[\"6-10 Reviews\"] += 1\n",
    "    elif value > 10 and value <=20:\n",
    "        number_of_reviews[\"11-20 Reviews\"] += 1\n",
    "    elif value > 20 and value <=30:\n",
    "        number_of_reviews[\"21-30 Reviews\"] += 1\n",
    "    elif value > 30 and value <=50:\n",
    "        number_of_reviews[\"31-50 Reviews\"] += 1\n",
    "    elif value >50 and value <=100:\n",
    "        number_of_reviews[\"51-100 Reviews\"] += 1\n",
    "    else:\n",
    "        number_of_reviews[\"Over 100 Reviews\"] += 1\n",
    "        \n",
    "#print(number_of_reviews)"
   ]
  },
  {
   "cell_type": "code",
   "execution_count": 370,
   "metadata": {},
   "outputs": [
    {
     "name": "stdout",
     "output_type": "stream",
     "text": [
      "count    48895.000000\n",
      "mean        23.274466\n",
      "std         44.550582\n",
      "min          0.000000\n",
      "25%          1.000000\n",
      "50%          5.000000\n",
      "75%         24.000000\n",
      "max        629.000000\n",
      "Name: number_of_reviews, dtype: float64\n"
     ]
    },
    {
     "data": {
      "image/png": "[encoded data removed]",
      "text/plain": [
       "<Figure size 1152x720 with 1 Axes>"
      ]
     },
     "metadata": {},
     "output_type": "display_data"
    }
   ],
   "source": [
    "plt.figure(figsize=(16,10))\n",
    "\n",
    "plt.bar(range(len(number_of_reviews)), list(number_of_reviews.values()))\n",
    "plt.xticks(range(len(number_of_reviews)), list(number_of_reviews.keys()))\n",
    "plt.ylabel('Number of Listings')\n",
    "plt.xlabel('# of Reviews')\n",
    "plt.title('# of Reviews Distribution')\n",
    "\n",
    "print(airb.number_of_reviews.describe())\n",
    "plt.show()"
   ]
  },
  {
   "cell_type": "markdown",
   "metadata": {},
   "source": [
    "## 5) Reviews Per Month"
   ]
  },
  {
   "cell_type": "code",
   "execution_count": 4,
   "metadata": {},
   "outputs": [],
   "source": [
    "reviews_per_month = {\"<= 0.1 RPM\":0, \"0.1-0.25 RPM\":0, \"0.25-0.5 RPM\":0,\"0.5-1.0 RPM\":0, \n",
    "              \"1.0-2.0 RPM\":0,\"2.0-3.0 RPM\":0, \"3.0-4.0 RPM\":0, \"4.0-5.0 RPM\":0, \"> 5.0 RPM\":0, \"No RPM\":0}\n",
    "\n",
    "for value in airb['reviews_per_month']:\n",
    "    if value <= 0.1:\n",
    "        reviews_per_month[\"<= 0.1 RPM\"] += 1\n",
    "    elif value > 0.1 and value <= 0.25:\n",
    "        reviews_per_month[\"0.1-0.25 RPM\"] += 1\n",
    "    elif value > 0.25 and value <= 0.5:\n",
    "        reviews_per_month[\"0.25-0.5 RPM\"] += 1\n",
    "    elif value > 0.5 and value <= 1.0:\n",
    "        reviews_per_month[\"0.5-1.0 RPM\"] += 1\n",
    "    elif value > 1.0 and value <=2.0:\n",
    "        reviews_per_month[\"1.0-2.0 RPM\"] += 1\n",
    "    elif value > 2.0 and value <=3.0:\n",
    "        reviews_per_month[\"2.0-3.0 RPM\"] += 1\n",
    "    elif value > 3.0 and value <=4.0:\n",
    "        reviews_per_month[\"3.0-4.0 RPM\"] += 1\n",
    "    elif value > 4.0 and value <=5.0:\n",
    "        reviews_per_month[\"4.0-5.0 RPM\"] += 1\n",
    "    elif value >5.0:\n",
    "        reviews_per_month[\"> 5.0 RPM\"] += 1\n",
    "    else:\n",
    "        reviews_per_month[\"No RPM\"] += 1\n",
    "        \n",
    "#print(reviews_per_month)"
   ]
  },
  {
   "cell_type": "code",
   "execution_count": 5,
   "metadata": {},
   "outputs": [
    {
     "name": "stdout",
     "output_type": "stream",
     "text": [
      "count    38843.000000\n",
      "mean         1.373221\n",
      "std          1.680442\n",
      "min          0.010000\n",
      "25%          0.190000\n",
      "50%          0.720000\n",
      "75%          2.020000\n",
      "max         58.500000\n",
      "Name: reviews_per_month, dtype: float64\n"
     ]
    },
    {
     "data": {
      "image/png": "[encoded data removed]",
      "text/plain": [
       "<Figure size 1152x720 with 1 Axes>"
      ]
     },
     "metadata": {
      "needs_background": "light"
     },
     "output_type": "display_data"
    }
   ],
   "source": [
    "plt.figure(figsize=(16,10))\n",
    "\n",
    "plt.bar(range(len(reviews_per_month)), list(reviews_per_month.values()))\n",
    "plt.xticks(range(len(reviews_per_month)), list(reviews_per_month.keys()))\n",
    "plt.ylabel('Number of Listings')\n",
    "plt.xlabel('Reviews Per Month')\n",
    "plt.title('Reviews Per Month Distribution')\n",
    "\n",
    "print(airb.reviews_per_month.describe())\n",
    "plt.show()"
   ]
  },
  {
   "cell_type": "markdown",
   "metadata": {},
   "source": [
    "## 6) Room Type"
   ]
  },
  {
   "cell_type": "code",
   "execution_count": 335,
   "metadata": {},
   "outputs": [
    {
     "name": "stdout",
     "output_type": "stream",
     "text": [
      "count               48895\n",
      "unique                  3\n",
      "top       Entire home/apt\n",
      "freq                25409\n",
      "Name: room_type, dtype: object\n"
     ]
    },
    {
     "data": {
      "image/png": "[encoded data removed]",
      "text/plain": [
       "<Figure size 1000x500 with 1 Axes>"
      ]
     },
     "metadata": {},
     "output_type": "display_data"
    }
   ],
   "source": [
    "pvt_room, ent_home_apt, shared_room = 'Private room', 'Entire home/apt', 'Shared room'\n",
    "\n",
    "pvt_room = airb.loc[airb['room_type'] == 'Private room'].count()[0]\n",
    "ent_home_apt = airb.loc[airb['room_type'] == 'Entire home/apt'].count()[0]\n",
    "shared_room = airb.loc[airb['room_type'] == 'Shared room'].count()[0]\n",
    "housing = [pvt_room, ent_home_apt, shared_room]\n",
    "labels=['Private Room', 'Entire Home./Apt', 'Shared Room']\n",
    "\n",
    "plt.figure(figsize=(10,5), dpi=100)\n",
    "plt.bar(labels, housing)\n",
    "plt.ylabel('Number of Listings')\n",
    "plt.xlabel('Room Type')\n",
    "plt.title('Room Type Distribution')\n",
    "\n",
    "print(airb.room_type.describe())\n",
    "plt.show()"
   ]
  },
  {
   "cell_type": "markdown",
   "metadata": {},
   "source": [
    "## 7) Neighbourhood Group"
   ]
  },
  {
   "cell_type": "code",
   "execution_count": 336,
   "metadata": {
    "scrolled": false
   },
   "outputs": [
    {
     "name": "stdout",
     "output_type": "stream",
     "text": [
      "count         48895\n",
      "unique            5\n",
      "top       Manhattan\n",
      "freq          21661\n",
      "Name: neighbourhood_group, dtype: object\n"
     ]
    },
    {
     "data": {
      "image/png": "[encoded data removed]",
      "text/plain": [
       "<Figure size 1600x1000 with 1 Axes>"
      ]
     },
     "metadata": {},
     "output_type": "display_data"
    }
   ],
   "source": [
    "brooklyn = airb.loc[airb['neighbourhood_group'] == 'Brooklyn'].count()[0]\n",
    "manhattan = airb.loc[airb['neighbourhood_group'] == 'Manhattan'].count()[0]\n",
    "queens = airb.loc[airb['neighbourhood_group'] == 'Queens'].count()[0]\n",
    "staten_island = airb.loc[airb['neighbourhood_group'] == 'Staten Island'].count()[0]\n",
    "bronx = airb.loc[airb['neighbourhood_group'] == 'Bronx'].count()[0]\n",
    "\n",
    "neighbourhood_group = [brooklyn, manhattan, queens, staten_island, bronx]\n",
    "labels=['Brooklyn', 'Manhattan', 'Queens', 'Staten Island', 'Bronx']\n",
    "\n",
    "plt.figure(figsize=(16,10), dpi=100)\n",
    "\n",
    "plt.bar(labels, neighbourhood_group)\n",
    "plt.ylabel('Number of Listings')\n",
    "plt.xlabel('Neighbourhood Groups')\n",
    "plt.title('Neighbourhood Group Distribution')\n",
    "\n",
    "print(airb.neighbourhood_group.describe())\n",
    "plt.show()"
   ]
  },
  {
   "cell_type": "markdown",
   "metadata": {},
   "source": [
    "## 8) Room Type vs Price"
   ]
  },
  {
   "cell_type": "code",
   "execution_count": 141,
   "metadata": {},
   "outputs": [
    {
     "data": {
      "text/plain": [
       "<seaborn.axisgrid.FacetGrid at 0x2c385178408>"
      ]
     },
     "execution_count": 141,
     "metadata": {},
     "output_type": "execute_result"
    },
    {
     "data": {
      "image/png": "[encoded data removed]",
      "text/plain": [
       "<Figure size 1008x504 with 1 Axes>"
      ]
     },
     "metadata": {},
     "output_type": "display_data"
    }
   ],
   "source": [
    "sns.catplot(\n",
    "    data=airb,\n",
    "    x='room_type',\n",
    "    y='price',\n",
    "    kind='box',\n",
    "    height=7,\n",
    "    aspect=2)"
   ]
  },
  {
   "cell_type": "markdown",
   "metadata": {},
   "source": [
    "## 9)  Neighbourhood Group vs Price"
   ]
  },
  {
   "cell_type": "code",
   "execution_count": 135,
   "metadata": {},
   "outputs": [
    {
     "data": {
      "text/plain": [
       "<seaborn.axisgrid.FacetGrid at 0x2c383f7c748>"
      ]
     },
     "execution_count": 135,
     "metadata": {},
     "output_type": "execute_result"
    },
    {
     "data": {
      "image/png": "[encoded data removed]",
      "text/plain": [
       "<Figure size 1008x504 with 1 Axes>"
      ]
     },
     "metadata": {},
     "output_type": "display_data"
    }
   ],
   "source": [
    "sns.catplot(\n",
    "    data=airb,\n",
    "    x='neighbourhood_group',\n",
    "    y='price',\n",
    "    kind='box',\n",
    "    height=7,\n",
    "    aspect=2)"
   ]
  },
  {
   "cell_type": "markdown",
   "metadata": {},
   "source": [
    "## 10) Correlational Heatmap (Numerical features only)"
   ]
  },
  {
   "cell_type": "code",
   "execution_count": 309,
   "metadata": {
    "scrolled": false
   },
   "outputs": [
    {
     "data": {
      "image/png": "[encoded data removed]",
      "text/plain": [
       "<Figure size 1440x1440 with 2 Axes>"
      ]
     },
     "metadata": {},
     "output_type": "display_data"
    }
   ],
   "source": [
    "corr = airb.corr()\n",
    "g = sns.heatmap(corr,  vmax=.3, center=0,\n",
    "            square=True, linewidths=.5, cbar_kws={\"shrink\": .5}, annot=True, fmt='.2f', cmap='coolwarm')\n",
    "sns.despine()\n",
    "g.figure.set_size_inches(20,20)\n",
    "    \n",
    "plt.show()"
   ]
  },
  {
   "cell_type": "code",
   "execution_count": 119,
   "metadata": {},
   "outputs": [],
   "source": []
  },
  {
   "cell_type": "markdown",
   "metadata": {},
   "source": [
    "# Data Cleaning\n",
    "\n",
    "To starts to let's take a look at each of our features and get a count of how many are missing values."
   ]
  },
  {
   "cell_type": "code",
   "execution_count": 4,
   "metadata": {},
   "outputs": [
    {
     "data": {
      "text/plain": [
       "id                                    0\n",
       "name                                 16\n",
       "host_id                               0\n",
       "host_name                            21\n",
       "neighbourhood_group                   0\n",
       "neighbourhood                         0\n",
       "latitude                              0\n",
       "longitude                             0\n",
       "room_type                             0\n",
       "price                                 0\n",
       "minimum_nights                        0\n",
       "number_of_reviews                     0\n",
       "last_review                       10052\n",
       "reviews_per_month                 10052\n",
       "calculated_host_listings_count        0\n",
       "availability_365                      0\n",
       "dtype: int64"
      ]
     },
     "execution_count": 4,
     "metadata": {},
     "output_type": "execute_result"
    }
   ],
   "source": [
    "# check for missing values\n",
    "airb.isnull().sum()"
   ]
  },
  {
   "cell_type": "markdown",
   "metadata": {},
   "source": [
    "#### It appears that wehave four features with missing values.\n",
    "#### Name and host_name are missing less than 25 values each, but we'll likely be dropping those columns anyway.\n",
    "#### last_review and reviews_per_month are missing the same number of values, which probably means one is dependent on the other.\n",
    "#### last_review can probably be dropped, but reviews_per_month can imputed with 0s as it is a numerical feature to begin with."
   ]
  },
  {
   "cell_type": "markdown",
   "metadata": {},
   "source": [
    "## Reviews Per Month\n",
    "\n",
    "To clean up our reviews_per_month column we can fill all of our missing values with 0s.\n",
    "Filling each with an average of the RPM column would likely lead to an inaccurate answer, so instead we will go with 0s."
   ]
  },
  {
   "cell_type": "code",
   "execution_count": 5,
   "metadata": {},
   "outputs": [
    {
     "data": {
      "text/html": [
       "<div>\n",
       "<style scoped>\n",
       "    .dataframe tbody tr th:only-of-type {\n",
       "        vertical-align: middle;\n",
       "    }\n",
       "\n",
       "    .dataframe tbody tr th {\n",
       "        vertical-align: top;\n",
       "    }\n",
       "\n",
       "    .dataframe thead th {\n",
       "        text-align: right;\n",
       "    }\n",
       "</style>\n",
       "<table border=\"1\" class=\"dataframe\">\n",
       "  <thead>\n",
       "    <tr style=\"text-align: right;\">\n",
       "      <th></th>\n",
       "      <th>reviews_per_month</th>\n",
       "      <th>last_review</th>\n",
       "    </tr>\n",
       "  </thead>\n",
       "  <tbody>\n",
       "    <tr>\n",
       "      <td>0</td>\n",
       "      <td>0.21</td>\n",
       "      <td>2018-10-19</td>\n",
       "    </tr>\n",
       "    <tr>\n",
       "      <td>1</td>\n",
       "      <td>0.38</td>\n",
       "      <td>2019-05-21</td>\n",
       "    </tr>\n",
       "    <tr>\n",
       "      <td>2</td>\n",
       "      <td>0.00</td>\n",
       "      <td>NaN</td>\n",
       "    </tr>\n",
       "    <tr>\n",
       "      <td>3</td>\n",
       "      <td>4.64</td>\n",
       "      <td>2019-07-05</td>\n",
       "    </tr>\n",
       "    <tr>\n",
       "      <td>4</td>\n",
       "      <td>0.10</td>\n",
       "      <td>2018-11-19</td>\n",
       "    </tr>\n",
       "    <tr>\n",
       "      <td>...</td>\n",
       "      <td>...</td>\n",
       "      <td>...</td>\n",
       "    </tr>\n",
       "    <tr>\n",
       "      <td>48890</td>\n",
       "      <td>0.00</td>\n",
       "      <td>NaN</td>\n",
       "    </tr>\n",
       "    <tr>\n",
       "      <td>48891</td>\n",
       "      <td>0.00</td>\n",
       "      <td>NaN</td>\n",
       "    </tr>\n",
       "    <tr>\n",
       "      <td>48892</td>\n",
       "      <td>0.00</td>\n",
       "      <td>NaN</td>\n",
       "    </tr>\n",
       "    <tr>\n",
       "      <td>48893</td>\n",
       "      <td>0.00</td>\n",
       "      <td>NaN</td>\n",
       "    </tr>\n",
       "    <tr>\n",
       "      <td>48894</td>\n",
       "      <td>0.00</td>\n",
       "      <td>NaN</td>\n",
       "    </tr>\n",
       "  </tbody>\n",
       "</table>\n",
       "<p>48895 rows × 2 columns</p>\n",
       "</div>"
      ],
      "text/plain": [
       "       reviews_per_month last_review\n",
       "0                   0.21  2018-10-19\n",
       "1                   0.38  2019-05-21\n",
       "2                   0.00         NaN\n",
       "3                   4.64  2019-07-05\n",
       "4                   0.10  2018-11-19\n",
       "...                  ...         ...\n",
       "48890               0.00         NaN\n",
       "48891               0.00         NaN\n",
       "48892               0.00         NaN\n",
       "48893               0.00         NaN\n",
       "48894               0.00         NaN\n",
       "\n",
       "[48895 rows x 2 columns]"
      ]
     },
     "execution_count": 5,
     "metadata": {},
     "output_type": "execute_result"
    }
   ],
   "source": [
    "airb[['last_review', 'reviews_per_month', 'number_of_reviews']]\n",
    "## the observations with a number_of_reviews of 0 will have NaN\n",
    "## in both last_review and reviews_per_month\n",
    "## think it is safe to say we can impute with 0s\n",
    "\n",
    "airb = airb.fillna({\"reviews_per_month\": 0})\n",
    "airb[['reviews_per_month', 'last_review']]"
   ]
  },
  {
   "cell_type": "code",
   "execution_count": 10,
   "metadata": {},
   "outputs": [],
   "source": [
    "# let's drop the ID columns as they will not be able to present us with much more information.\n",
    "# We'll also drop the last_review column as well.\n",
    "#airb = airb.drop(['id'], axis = 1)\n",
    "#airb = airb.drop(['host_id'], axis = 1)\n",
    "#airb = airb.drop(['last_review'], axis = 1)\n",
    "airb = airb.drop(['name'], axis = 1)\n",
    "airb = airb.drop(['host_name'], axis = 1)"
   ]
  },
  {
   "cell_type": "code",
   "execution_count": 11,
   "metadata": {},
   "outputs": [
    {
     "data": {
      "text/html": [
       "<div>\n",
       "<style scoped>\n",
       "    .dataframe tbody tr th:only-of-type {\n",
       "        vertical-align: middle;\n",
       "    }\n",
       "\n",
       "    .dataframe tbody tr th {\n",
       "        vertical-align: top;\n",
       "    }\n",
       "\n",
       "    .dataframe thead th {\n",
       "        text-align: right;\n",
       "    }\n",
       "</style>\n",
       "<table border=\"1\" class=\"dataframe\">\n",
       "  <thead>\n",
       "    <tr style=\"text-align: right;\">\n",
       "      <th></th>\n",
       "      <th>borough_code</th>\n",
       "      <th>neighbourhood</th>\n",
       "      <th>latitude</th>\n",
       "      <th>longitude</th>\n",
       "      <th>room_type</th>\n",
       "      <th>price</th>\n",
       "      <th>minimum_nights</th>\n",
       "      <th>number_of_reviews</th>\n",
       "      <th>reviews_per_month</th>\n",
       "      <th>calculated_host_listings_count</th>\n",
       "      <th>availability_365</th>\n",
       "    </tr>\n",
       "  </thead>\n",
       "  <tbody>\n",
       "    <tr>\n",
       "      <td>0</td>\n",
       "      <td>1</td>\n",
       "      <td>Kensington</td>\n",
       "      <td>40.64749</td>\n",
       "      <td>-73.97237</td>\n",
       "      <td>Private room</td>\n",
       "      <td>149</td>\n",
       "      <td>1</td>\n",
       "      <td>9</td>\n",
       "      <td>0.21</td>\n",
       "      <td>6</td>\n",
       "      <td>365</td>\n",
       "    </tr>\n",
       "    <tr>\n",
       "      <td>1</td>\n",
       "      <td>2</td>\n",
       "      <td>Midtown</td>\n",
       "      <td>40.75362</td>\n",
       "      <td>-73.98377</td>\n",
       "      <td>Entire home/apt</td>\n",
       "      <td>225</td>\n",
       "      <td>1</td>\n",
       "      <td>45</td>\n",
       "      <td>0.38</td>\n",
       "      <td>2</td>\n",
       "      <td>355</td>\n",
       "    </tr>\n",
       "    <tr>\n",
       "      <td>2</td>\n",
       "      <td>2</td>\n",
       "      <td>Harlem</td>\n",
       "      <td>40.80902</td>\n",
       "      <td>-73.94190</td>\n",
       "      <td>Private room</td>\n",
       "      <td>150</td>\n",
       "      <td>3</td>\n",
       "      <td>0</td>\n",
       "      <td>0.00</td>\n",
       "      <td>1</td>\n",
       "      <td>365</td>\n",
       "    </tr>\n",
       "    <tr>\n",
       "      <td>3</td>\n",
       "      <td>1</td>\n",
       "      <td>Clinton Hill</td>\n",
       "      <td>40.68514</td>\n",
       "      <td>-73.95976</td>\n",
       "      <td>Entire home/apt</td>\n",
       "      <td>89</td>\n",
       "      <td>1</td>\n",
       "      <td>270</td>\n",
       "      <td>4.64</td>\n",
       "      <td>1</td>\n",
       "      <td>194</td>\n",
       "    </tr>\n",
       "    <tr>\n",
       "      <td>4</td>\n",
       "      <td>2</td>\n",
       "      <td>East Harlem</td>\n",
       "      <td>40.79851</td>\n",
       "      <td>-73.94399</td>\n",
       "      <td>Entire home/apt</td>\n",
       "      <td>80</td>\n",
       "      <td>10</td>\n",
       "      <td>9</td>\n",
       "      <td>0.10</td>\n",
       "      <td>1</td>\n",
       "      <td>0</td>\n",
       "    </tr>\n",
       "    <tr>\n",
       "      <td>...</td>\n",
       "      <td>...</td>\n",
       "      <td>...</td>\n",
       "      <td>...</td>\n",
       "      <td>...</td>\n",
       "      <td>...</td>\n",
       "      <td>...</td>\n",
       "      <td>...</td>\n",
       "      <td>...</td>\n",
       "      <td>...</td>\n",
       "      <td>...</td>\n",
       "      <td>...</td>\n",
       "    </tr>\n",
       "    <tr>\n",
       "      <td>48890</td>\n",
       "      <td>1</td>\n",
       "      <td>Bedford-Stuyvesant</td>\n",
       "      <td>40.67853</td>\n",
       "      <td>-73.94995</td>\n",
       "      <td>Private room</td>\n",
       "      <td>70</td>\n",
       "      <td>2</td>\n",
       "      <td>0</td>\n",
       "      <td>0.00</td>\n",
       "      <td>2</td>\n",
       "      <td>9</td>\n",
       "    </tr>\n",
       "    <tr>\n",
       "      <td>48891</td>\n",
       "      <td>1</td>\n",
       "      <td>Bushwick</td>\n",
       "      <td>40.70184</td>\n",
       "      <td>-73.93317</td>\n",
       "      <td>Private room</td>\n",
       "      <td>40</td>\n",
       "      <td>4</td>\n",
       "      <td>0</td>\n",
       "      <td>0.00</td>\n",
       "      <td>2</td>\n",
       "      <td>36</td>\n",
       "    </tr>\n",
       "    <tr>\n",
       "      <td>48892</td>\n",
       "      <td>2</td>\n",
       "      <td>Harlem</td>\n",
       "      <td>40.81475</td>\n",
       "      <td>-73.94867</td>\n",
       "      <td>Entire home/apt</td>\n",
       "      <td>115</td>\n",
       "      <td>10</td>\n",
       "      <td>0</td>\n",
       "      <td>0.00</td>\n",
       "      <td>1</td>\n",
       "      <td>27</td>\n",
       "    </tr>\n",
       "    <tr>\n",
       "      <td>48893</td>\n",
       "      <td>2</td>\n",
       "      <td>Hell's Kitchen</td>\n",
       "      <td>40.75751</td>\n",
       "      <td>-73.99112</td>\n",
       "      <td>Shared room</td>\n",
       "      <td>55</td>\n",
       "      <td>1</td>\n",
       "      <td>0</td>\n",
       "      <td>0.00</td>\n",
       "      <td>6</td>\n",
       "      <td>2</td>\n",
       "    </tr>\n",
       "    <tr>\n",
       "      <td>48894</td>\n",
       "      <td>2</td>\n",
       "      <td>Hell's Kitchen</td>\n",
       "      <td>40.76404</td>\n",
       "      <td>-73.98933</td>\n",
       "      <td>Private room</td>\n",
       "      <td>90</td>\n",
       "      <td>7</td>\n",
       "      <td>0</td>\n",
       "      <td>0.00</td>\n",
       "      <td>1</td>\n",
       "      <td>23</td>\n",
       "    </tr>\n",
       "  </tbody>\n",
       "</table>\n",
       "<p>48895 rows × 11 columns</p>\n",
       "</div>"
      ],
      "text/plain": [
       "       borough_code       neighbourhood  latitude  longitude        room_type  \\\n",
       "0                 1          Kensington  40.64749  -73.97237     Private room   \n",
       "1                 2             Midtown  40.75362  -73.98377  Entire home/apt   \n",
       "2                 2              Harlem  40.80902  -73.94190     Private room   \n",
       "3                 1        Clinton Hill  40.68514  -73.95976  Entire home/apt   \n",
       "4                 2         East Harlem  40.79851  -73.94399  Entire home/apt   \n",
       "...             ...                 ...       ...        ...              ...   \n",
       "48890             1  Bedford-Stuyvesant  40.67853  -73.94995     Private room   \n",
       "48891             1            Bushwick  40.70184  -73.93317     Private room   \n",
       "48892             2              Harlem  40.81475  -73.94867  Entire home/apt   \n",
       "48893             2      Hell's Kitchen  40.75751  -73.99112      Shared room   \n",
       "48894             2      Hell's Kitchen  40.76404  -73.98933     Private room   \n",
       "\n",
       "       price  minimum_nights  number_of_reviews  reviews_per_month  \\\n",
       "0        149               1                  9               0.21   \n",
       "1        225               1                 45               0.38   \n",
       "2        150               3                  0               0.00   \n",
       "3         89               1                270               4.64   \n",
       "4         80              10                  9               0.10   \n",
       "...      ...             ...                ...                ...   \n",
       "48890     70               2                  0               0.00   \n",
       "48891     40               4                  0               0.00   \n",
       "48892    115              10                  0               0.00   \n",
       "48893     55               1                  0               0.00   \n",
       "48894     90               7                  0               0.00   \n",
       "\n",
       "       calculated_host_listings_count  availability_365  \n",
       "0                                   6               365  \n",
       "1                                   2               355  \n",
       "2                                   1               365  \n",
       "3                                   1               194  \n",
       "4                                   1                 0  \n",
       "...                               ...               ...  \n",
       "48890                               2                 9  \n",
       "48891                               2                36  \n",
       "48892                               1                27  \n",
       "48893                               6                 2  \n",
       "48894                               1                23  \n",
       "\n",
       "[48895 rows x 11 columns]"
      ]
     },
     "execution_count": 11,
     "metadata": {},
     "output_type": "execute_result"
    }
   ],
   "source": [
    "airb"
   ]
  },
  {
   "cell_type": "markdown",
   "metadata": {},
   "source": [
    "# Feature Engineering"
   ]
  },
  {
   "cell_type": "code",
   "execution_count": 13,
   "metadata": {},
   "outputs": [
    {
     "data": {
      "text/html": [
       "<div>\n",
       "<style scoped>\n",
       "    .dataframe tbody tr th:only-of-type {\n",
       "        vertical-align: middle;\n",
       "    }\n",
       "\n",
       "    .dataframe tbody tr th {\n",
       "        vertical-align: top;\n",
       "    }\n",
       "\n",
       "    .dataframe thead th {\n",
       "        text-align: right;\n",
       "    }\n",
       "</style>\n",
       "<table border=\"1\" class=\"dataframe\">\n",
       "  <thead>\n",
       "    <tr style=\"text-align: right;\">\n",
       "      <th></th>\n",
       "      <th>borough_code</th>\n",
       "      <th>neighbourhood</th>\n",
       "      <th>latitude</th>\n",
       "      <th>longitude</th>\n",
       "      <th>room_type</th>\n",
       "      <th>price</th>\n",
       "      <th>minimum_nights</th>\n",
       "      <th>number_of_reviews</th>\n",
       "      <th>reviews_per_month</th>\n",
       "      <th>calculated_host_listings_count</th>\n",
       "      <th>availability_365</th>\n",
       "    </tr>\n",
       "  </thead>\n",
       "  <tbody>\n",
       "    <tr>\n",
       "      <td>44622</td>\n",
       "      <td>2</td>\n",
       "      <td>Financial District</td>\n",
       "      <td>40.70641</td>\n",
       "      <td>-74.00674</td>\n",
       "      <td>Entire home/apt</td>\n",
       "      <td>130</td>\n",
       "      <td>29</td>\n",
       "      <td>0</td>\n",
       "      <td>0.00</td>\n",
       "      <td>327</td>\n",
       "      <td>337</td>\n",
       "    </tr>\n",
       "    <tr>\n",
       "      <td>16523</td>\n",
       "      <td>1</td>\n",
       "      <td>Bushwick</td>\n",
       "      <td>40.70238</td>\n",
       "      <td>-73.92812</td>\n",
       "      <td>Private room</td>\n",
       "      <td>55</td>\n",
       "      <td>1</td>\n",
       "      <td>1</td>\n",
       "      <td>0.03</td>\n",
       "      <td>1</td>\n",
       "      <td>0</td>\n",
       "    </tr>\n",
       "    <tr>\n",
       "      <td>35721</td>\n",
       "      <td>2</td>\n",
       "      <td>Kips Bay</td>\n",
       "      <td>40.74389</td>\n",
       "      <td>-73.98033</td>\n",
       "      <td>Private room</td>\n",
       "      <td>120</td>\n",
       "      <td>2</td>\n",
       "      <td>32</td>\n",
       "      <td>3.74</td>\n",
       "      <td>3</td>\n",
       "      <td>264</td>\n",
       "    </tr>\n",
       "  </tbody>\n",
       "</table>\n",
       "</div>"
      ],
      "text/plain": [
       "       borough_code       neighbourhood  latitude  longitude        room_type  \\\n",
       "44622             2  Financial District  40.70641  -74.00674  Entire home/apt   \n",
       "16523             1            Bushwick  40.70238  -73.92812     Private room   \n",
       "35721             2            Kips Bay  40.74389  -73.98033     Private room   \n",
       "\n",
       "       price  minimum_nights  number_of_reviews  reviews_per_month  \\\n",
       "44622    130              29                  0               0.00   \n",
       "16523     55               1                  1               0.03   \n",
       "35721    120               2                 32               3.74   \n",
       "\n",
       "       calculated_host_listings_count  availability_365  \n",
       "44622                             327               337  \n",
       "16523                               1                 0  \n",
       "35721                               3               264  "
      ]
     },
     "execution_count": 13,
     "metadata": {},
     "output_type": "execute_result"
    }
   ],
   "source": [
    "#airb['neighbourhood_group'] = airb['neighbourhood_group'].replace(['Brooklyn', 'Manhattan', 'Queens', 'Staten Island', 'Bronx'],[1,2,3,4,5])\n",
    "#airb.rename(columns={'neighbourhood_group':'borough_code'}, inplace=True)\n",
    "airb.sample(3)"
   ]
  },
  {
   "cell_type": "code",
   "execution_count": 14,
   "metadata": {},
   "outputs": [
    {
     "data": {
      "text/html": [
       "<div>\n",
       "<style scoped>\n",
       "    .dataframe tbody tr th:only-of-type {\n",
       "        vertical-align: middle;\n",
       "    }\n",
       "\n",
       "    .dataframe tbody tr th {\n",
       "        vertical-align: top;\n",
       "    }\n",
       "\n",
       "    .dataframe thead th {\n",
       "        text-align: right;\n",
       "    }\n",
       "</style>\n",
       "<table border=\"1\" class=\"dataframe\">\n",
       "  <thead>\n",
       "    <tr style=\"text-align: right;\">\n",
       "      <th></th>\n",
       "      <th>borough_code</th>\n",
       "      <th>neighbourhood</th>\n",
       "      <th>latitude</th>\n",
       "      <th>longitude</th>\n",
       "      <th>room_type_encoded</th>\n",
       "      <th>price</th>\n",
       "      <th>minimum_nights</th>\n",
       "      <th>number_of_reviews</th>\n",
       "      <th>reviews_per_month</th>\n",
       "      <th>calculated_host_listings_count</th>\n",
       "      <th>availability_365</th>\n",
       "    </tr>\n",
       "  </thead>\n",
       "  <tbody>\n",
       "    <tr>\n",
       "      <td>26209</td>\n",
       "      <td>3</td>\n",
       "      <td>Long Island City</td>\n",
       "      <td>40.76096</td>\n",
       "      <td>-73.93836</td>\n",
       "      <td>1</td>\n",
       "      <td>55</td>\n",
       "      <td>4</td>\n",
       "      <td>0</td>\n",
       "      <td>0.00</td>\n",
       "      <td>1</td>\n",
       "      <td>0</td>\n",
       "    </tr>\n",
       "    <tr>\n",
       "      <td>22737</td>\n",
       "      <td>5</td>\n",
       "      <td>Parkchester</td>\n",
       "      <td>40.82942</td>\n",
       "      <td>-73.87564</td>\n",
       "      <td>1</td>\n",
       "      <td>60</td>\n",
       "      <td>2</td>\n",
       "      <td>89</td>\n",
       "      <td>3.36</td>\n",
       "      <td>4</td>\n",
       "      <td>30</td>\n",
       "    </tr>\n",
       "    <tr>\n",
       "      <td>13864</td>\n",
       "      <td>1</td>\n",
       "      <td>Williamsburg</td>\n",
       "      <td>40.71957</td>\n",
       "      <td>-73.94199</td>\n",
       "      <td>1</td>\n",
       "      <td>80</td>\n",
       "      <td>5</td>\n",
       "      <td>81</td>\n",
       "      <td>1.96</td>\n",
       "      <td>2</td>\n",
       "      <td>308</td>\n",
       "    </tr>\n",
       "    <tr>\n",
       "      <td>5119</td>\n",
       "      <td>1</td>\n",
       "      <td>Bushwick</td>\n",
       "      <td>40.69753</td>\n",
       "      <td>-73.93619</td>\n",
       "      <td>1</td>\n",
       "      <td>55</td>\n",
       "      <td>2</td>\n",
       "      <td>20</td>\n",
       "      <td>0.41</td>\n",
       "      <td>1</td>\n",
       "      <td>19</td>\n",
       "    </tr>\n",
       "    <tr>\n",
       "      <td>27377</td>\n",
       "      <td>2</td>\n",
       "      <td>Harlem</td>\n",
       "      <td>40.82397</td>\n",
       "      <td>-73.95453</td>\n",
       "      <td>1</td>\n",
       "      <td>55</td>\n",
       "      <td>11</td>\n",
       "      <td>124</td>\n",
       "      <td>6.10</td>\n",
       "      <td>6</td>\n",
       "      <td>95</td>\n",
       "    </tr>\n",
       "  </tbody>\n",
       "</table>\n",
       "</div>"
      ],
      "text/plain": [
       "       borough_code     neighbourhood  latitude  longitude  room_type_encoded  \\\n",
       "26209             3  Long Island City  40.76096  -73.93836                  1   \n",
       "22737             5       Parkchester  40.82942  -73.87564                  1   \n",
       "13864             1      Williamsburg  40.71957  -73.94199                  1   \n",
       "5119              1          Bushwick  40.69753  -73.93619                  1   \n",
       "27377             2            Harlem  40.82397  -73.95453                  1   \n",
       "\n",
       "       price  minimum_nights  number_of_reviews  reviews_per_month  \\\n",
       "26209     55               4                  0               0.00   \n",
       "22737     60               2                 89               3.36   \n",
       "13864     80               5                 81               1.96   \n",
       "5119      55               2                 20               0.41   \n",
       "27377     55              11                124               6.10   \n",
       "\n",
       "       calculated_host_listings_count  availability_365  \n",
       "26209                               1                 0  \n",
       "22737                               4                30  \n",
       "13864                               2               308  \n",
       "5119                                1                19  \n",
       "27377                               6                95  "
      ]
     },
     "execution_count": 14,
     "metadata": {},
     "output_type": "execute_result"
    }
   ],
   "source": [
    "airb['room_type'] = airb['room_type'].replace(['Private room', 'Entire home/apt', 'Shared room'],[1,2,3])\n",
    "airb.rename(columns={'room_type':'room_type_encoded'}, inplace=True)\n",
    "airb.sample(5)"
   ]
  },
  {
   "cell_type": "code",
   "execution_count": 15,
   "metadata": {},
   "outputs": [
    {
     "data": {
      "text/html": [
       "<div>\n",
       "<style scoped>\n",
       "    .dataframe tbody tr th:only-of-type {\n",
       "        vertical-align: middle;\n",
       "    }\n",
       "\n",
       "    .dataframe tbody tr th {\n",
       "        vertical-align: top;\n",
       "    }\n",
       "\n",
       "    .dataframe thead th {\n",
       "        text-align: right;\n",
       "    }\n",
       "</style>\n",
       "<table border=\"1\" class=\"dataframe\">\n",
       "  <thead>\n",
       "    <tr style=\"text-align: right;\">\n",
       "      <th></th>\n",
       "      <th>borough_code</th>\n",
       "      <th>neighbourhood</th>\n",
       "      <th>latitude</th>\n",
       "      <th>longitude</th>\n",
       "      <th>room_type_encoded</th>\n",
       "      <th>price</th>\n",
       "      <th>minimum_nights</th>\n",
       "      <th>number_of_reviews</th>\n",
       "      <th>reviews_per_month</th>\n",
       "      <th>calculated_host_listings_count</th>\n",
       "      <th>availability_365</th>\n",
       "    </tr>\n",
       "  </thead>\n",
       "  <tbody>\n",
       "    <tr>\n",
       "      <td>5234</td>\n",
       "      <td>2</td>\n",
       "      <td>Upper West Side</td>\n",
       "      <td>40.79253</td>\n",
       "      <td>-73.97378</td>\n",
       "      <td>2</td>\n",
       "      <td>104</td>\n",
       "      <td>30</td>\n",
       "      <td>16</td>\n",
       "      <td>0.28</td>\n",
       "      <td>8</td>\n",
       "      <td>101</td>\n",
       "    </tr>\n",
       "    <tr>\n",
       "      <td>39643</td>\n",
       "      <td>1</td>\n",
       "      <td>Crown Heights</td>\n",
       "      <td>40.67188</td>\n",
       "      <td>-73.95049</td>\n",
       "      <td>2</td>\n",
       "      <td>85</td>\n",
       "      <td>3</td>\n",
       "      <td>0</td>\n",
       "      <td>0.00</td>\n",
       "      <td>2</td>\n",
       "      <td>0</td>\n",
       "    </tr>\n",
       "    <tr>\n",
       "      <td>45327</td>\n",
       "      <td>2</td>\n",
       "      <td>East Village</td>\n",
       "      <td>40.72757</td>\n",
       "      <td>-73.98336</td>\n",
       "      <td>2</td>\n",
       "      <td>150</td>\n",
       "      <td>31</td>\n",
       "      <td>0</td>\n",
       "      <td>0.00</td>\n",
       "      <td>1</td>\n",
       "      <td>365</td>\n",
       "    </tr>\n",
       "    <tr>\n",
       "      <td>17534</td>\n",
       "      <td>2</td>\n",
       "      <td>Upper East Side</td>\n",
       "      <td>40.77094</td>\n",
       "      <td>-73.95126</td>\n",
       "      <td>2</td>\n",
       "      <td>199</td>\n",
       "      <td>1</td>\n",
       "      <td>0</td>\n",
       "      <td>0.00</td>\n",
       "      <td>1</td>\n",
       "      <td>0</td>\n",
       "    </tr>\n",
       "    <tr>\n",
       "      <td>15714</td>\n",
       "      <td>2</td>\n",
       "      <td>Lower East Side</td>\n",
       "      <td>40.71187</td>\n",
       "      <td>-73.98878</td>\n",
       "      <td>3</td>\n",
       "      <td>35</td>\n",
       "      <td>14</td>\n",
       "      <td>0</td>\n",
       "      <td>0.00</td>\n",
       "      <td>28</td>\n",
       "      <td>318</td>\n",
       "    </tr>\n",
       "  </tbody>\n",
       "</table>\n",
       "</div>"
      ],
      "text/plain": [
       "       borough_code    neighbourhood  latitude  longitude  room_type_encoded  \\\n",
       "5234              2  Upper West Side  40.79253  -73.97378                  2   \n",
       "39643             1    Crown Heights  40.67188  -73.95049                  2   \n",
       "45327             2     East Village  40.72757  -73.98336                  2   \n",
       "17534             2  Upper East Side  40.77094  -73.95126                  2   \n",
       "15714             2  Lower East Side  40.71187  -73.98878                  3   \n",
       "\n",
       "       price  minimum_nights  number_of_reviews  reviews_per_month  \\\n",
       "5234     104              30                 16               0.28   \n",
       "39643     85               3                  0               0.00   \n",
       "45327    150              31                  0               0.00   \n",
       "17534    199               1                  0               0.00   \n",
       "15714     35              14                  0               0.00   \n",
       "\n",
       "       calculated_host_listings_count  availability_365  \n",
       "5234                                8               101  \n",
       "39643                               2                 0  \n",
       "45327                               1               365  \n",
       "17534                               1                 0  \n",
       "15714                              28               318  "
      ]
     },
     "execution_count": 15,
     "metadata": {},
     "output_type": "execute_result"
    }
   ],
   "source": [
    "airb.sample(5)"
   ]
  },
  {
   "cell_type": "code",
   "execution_count": null,
   "metadata": {},
   "outputs": [],
   "source": [
    "search = SearchEngine(simple_zipcode=True) # set simple_zipcode=False to use rich info database\n",
    "zipcodes = []\n",
    "latitudes = [lat for lat in airb.latitude]\n",
    "longitudes = [long for long in airb.longitude]\n",
    "#loc_tuple = (latitudes, longitudes)\n",
    "#count = 0\n",
    "for lat, long in zip(latitudes, longitudes):\n",
    "    res = search.by_coordinates(lat, long, radius=10, returns=1)\n",
    "    for zips in res:\n",
    "        zipcodes.append(zips.zipcode)\n",
    "\n",
    "airb[\"Zipcode\"] = zipcodes"
   ]
  },
  {
   "cell_type": "code",
   "execution_count": null,
   "metadata": {},
   "outputs": [],
   "source": []
  }
 ],
 "metadata": {
  "kernelspec": {
   "display_name": "Python 3",
   "language": "python",
   "name": "python3"
  },
  "language_info": {
   "codemirror_mode": {
    "name": "ipython",
    "version": 3
   },
   "file_extension": ".py",
   "mimetype": "text/x-python",
   "name": "python",
   "nbconvert_exporter": "python",
   "pygments_lexer": "ipython3",
   "version": "3.7.4"
  }
 },
 "nbformat": 4,
 "nbformat_minor": 2
}
